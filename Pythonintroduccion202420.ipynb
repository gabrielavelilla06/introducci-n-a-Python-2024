{
  "nbformat": 4,
  "nbformat_minor": 0,
  "metadata": {
    "colab": {
      "provenance": [],
      "authorship_tag": "ABX9TyNkHSIUzW1RAWpbc1fE1yg+",
      "include_colab_link": true
    },
    "kernelspec": {
      "name": "python3",
      "display_name": "Python 3"
    },
    "language_info": {
      "name": "python"
    }
  },
  "cells": [
    {
      "cell_type": "markdown",
      "metadata": {
        "id": "view-in-github",
        "colab_type": "text"
      },
      "source": [
        "<a href=\"https://colab.research.google.com/github/gabrielavelilla06/introducci-n-a-Python-2024/blob/main/Pythonintroduccion202420.ipynb\" target=\"_parent\"><img src=\"https://colab.research.google.com/assets/colab-badge.svg\" alt=\"Open In Colab\"/></a>"
      ]
    },
    {
      "cell_type": "code",
      "execution_count": null,
      "metadata": {
        "id": "kEJ7fuz_pjSF"
      },
      "outputs": [],
      "source": []
    },
    {
      "cell_type": "markdown",
      "source": [
        "# Mis Apuntes de Python\n",
        "### Funfamentos de Programación 202420\n",
        "\n",
        "**Nombre: ** Gabriela Velilla\n",
        "\n",
        "*Fecha de creación: * 20 de agosto, 2024\n",
        "\n",
        "** Email: ** gabriela.velilla@upb.edu.co"
      ],
      "metadata": {
        "id": "-Q-sAJhPrsUy"
      }
    },
    {
      "cell_type": "code",
      "source": [
        "# Mis primeros pasos con python\n",
        "print(\"Hola mundo\")"
      ],
      "metadata": {
        "colab": {
          "base_uri": "https://localhost:8080/"
        },
        "id": "12zuA6iguG7F",
        "outputId": "db37f8c8-c3bc-4639-c212-a040fc371569"
      },
      "execution_count": 2,
      "outputs": [
        {
          "output_type": "stream",
          "name": "stdout",
          "text": [
            "Hola mundo\n"
          ]
        }
      ]
    },
    {
      "cell_type": "code",
      "source": [
        "name = \"Gabriela\"\n",
        "age = 18\n",
        "city = \"Corozal\"\n",
        "\n",
        "print(\"Hola, mi nombre es\", name, \"tengo\", age, \"años y soy de\", city)"
      ],
      "metadata": {
        "colab": {
          "base_uri": "https://localhost:8080/"
        },
        "id": "M0fTujSYvbbz",
        "outputId": "0cd2d993-ca52-4761-9610-e9ed6ccb36c9"
      },
      "execution_count": 12,
      "outputs": [
        {
          "output_type": "stream",
          "name": "stdout",
          "text": [
            "Hola, mi nombre es Gabriela tengo 18 años y soy de Corozal\n"
          ]
        }
      ]
    },
    {
      "cell_type": "code",
      "source": [
        "# numeros\n",
        "a = 10\n",
        "b = 2.5\n",
        "c = a + b\n",
        "print(c)\n",
        "\n",
        "# tipo de datos\n",
        "print(type(a))\n",
        "print(type(b))\n",
        "print(type(c))\n",
        "\n",
        "# operaciones basicas de matematicas\n",
        "\n",
        "print(3 + 2)#suma\n",
        "print(3 - 2)#resta\n",
        "print(3 * 2)#multiplicación\n",
        "\n",
        "\n",
        "\n",
        "# Concatenacion\n",
        "\n",
        "name = \"Gabriela\"\n",
        "lastname = \"Velilla\"\n",
        "fullname = name + ' ' + lastname\n",
        "print(fullname)\n",
        "print((fullname +' ')*3)"
      ],
      "metadata": {
        "colab": {
          "base_uri": "https://localhost:8080/"
        },
        "id": "V4qccSUbwmwG",
        "outputId": "459d3f48-23d3-4359-c1db-3560d1e2a0ba"
      },
      "execution_count": 19,
      "outputs": [
        {
          "output_type": "stream",
          "name": "stdout",
          "text": [
            "12.5\n",
            "<class 'int'>\n",
            "<class 'float'>\n",
            "<class 'float'>\n",
            "5\n",
            "1\n",
            "6\n",
            "Gabriela Velilla\n",
            "Gabriela Velilla Gabriela Velilla Gabriela Velilla \n"
          ]
        }
      ]
    },
    {
      "cell_type": "code",
      "source": [
        "# incrementos\n",
        "a = 20\n",
        "print(\"a =\", a)\n",
        "b = 10\n",
        "a += b\n",
        "print(\"a =\", a)\n",
        "a -= b\n",
        "print(\"a =\", a)\n",
        "a *= b\n",
        "print(\"a =\", a)\n",
        "a /= b\n",
        "print(\"a =\", a)\n",
        "\n",
        "\n",
        "\n",
        "\n"
      ],
      "metadata": {
        "colab": {
          "base_uri": "https://localhost:8080/"
        },
        "id": "kkOnaS2a2AUR",
        "outputId": "1df7d209-e1f2-4bd6-ed94-fc74d5ff1d22"
      },
      "execution_count": 35,
      "outputs": [
        {
          "output_type": "stream",
          "name": "stdout",
          "text": [
            "a = 20\n",
            "a = 30\n",
            "a = 20\n",
            "a = 200\n",
            "a = 20.0\n"
          ]
        }
      ]
    },
    {
      "cell_type": "code",
      "source": [
        "# multi-line\n",
        "\n",
        "song = \"\"\"\n",
        "Anoche soñé que estábamos los dos\n",
        "Nos dábamos amor y hasta sentí su respiración\n",
        "Y el aroma del perfume de tu piel\n",
        "Pero todo era un sueño y se acabo\n",
        "Y al despertar no la encontré me entristecí y hasta llore\n",
        "Tan solo vi en la pared la foto de los dos\n",
        "Y me invadieron los recuerdos y los más bellos momentos\n",
        "El amor es un misterio yo no entiendo la razón\n",
        "Si me juro que volvería me iba amar toda la vida\n",
        "Se ha marchado pero nunca\n",
        "Regreso\n",
        "\"\"\""
      ],
      "metadata": {
        "id": "kCbz6esY6HFI"
      },
      "execution_count": 39,
      "outputs": []
    },
    {
      "cell_type": "code",
      "source": [
        "# entrada de usuarios\n",
        "\n",
        "a = int(input(\"ingrese el primer numero: \"))\n",
        "b = int(input(\"ingrese el segundo numero: \"))\n",
        "# a = float(input(\"ingrese el primer numero\"))\n",
        "# b = float(input(ingrese el segundo numero))\n",
        "# a = 3\n",
        "# b = 5\n",
        "print( a + b)\n"
      ],
      "metadata": {
        "colab": {
          "base_uri": "https://localhost:8080/"
        },
        "id": "U-qNZoCS7Co3",
        "outputId": "e5943066-07fc-4ada-ee80-1497da852f61"
      },
      "execution_count": 40,
      "outputs": [
        {
          "output_type": "stream",
          "name": "stdout",
          "text": [
            "ingrese el primer numero: 2\n",
            "ingrese el segundo numero: 3\n",
            "5\n"
          ]
        }
      ]
    },
    {
      "cell_type": "code",
      "source": [],
      "metadata": {
        "id": "1WlPzvbg8m0U"
      },
      "execution_count": null,
      "outputs": []
    }
  ]
}